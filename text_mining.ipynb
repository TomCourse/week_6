{
 "cells": [
  {
   "cell_type": "markdown",
   "metadata": {},
   "source": [
    "# Text Mining - Naive Bayes | Bag-of-Words"
   ]
  },
  {
   "cell_type": "markdown",
   "metadata": {},
   "source": [
    "Bag of words - A model which treats a document as a collection of words. In the model, each occurence of a word is counted. The bag of words is not complex. It does not take morphology, syntax or pragmatics into account. It really only counts the occurences of words. <br><br>\n",
    "Naive Bayes - The Naive Bayes uses the frequency of occurences of specific words to calculate the probability of a text belonging to a certain category. However, Naive Bayes does not take into account the dependency of certain word combinations. E.g Crime and police could have a strong correlation. Naive Bayes does not consider these relations. "
   ]
  },
  {
   "cell_type": "code",
   "execution_count": 9,
   "metadata": {},
   "outputs": [],
   "source": [
    "import pandas as pd\n",
    "import numpy as np\n",
    "from sklearn.metrics import r2_score\n",
    "import math\n",
    "from sklearn.feature_extraction.text import CountVectorizer\n",
    "from sklearn.model_selection import train_test_split\n",
    "from sklearn.metrics import mean_squared_error\n",
    "from sklearn.naive_bayes import MultinomialNB"
   ]
  },
  {
   "cell_type": "code",
   "execution_count": 10,
   "metadata": {},
   "outputs": [
    {
     "name": "stdout",
     "output_type": "stream",
     "text": [
      "<class 'pandas.core.frame.DataFrame'>\n",
      "RangeIndex: 23486 entries, 0 to 23485\n",
      "Data columns (total 11 columns):\n",
      " #   Column                   Non-Null Count  Dtype \n",
      "---  ------                   --------------  ----- \n",
      " 0   Unnamed: 0               23486 non-null  int64 \n",
      " 1   Clothing ID              23486 non-null  int64 \n",
      " 2   Age                      23486 non-null  int64 \n",
      " 3   Title                    19676 non-null  object\n",
      " 4   Review Text              22641 non-null  object\n",
      " 5   Rating                   23486 non-null  int64 \n",
      " 6   Recommended IND          23486 non-null  int64 \n",
      " 7   Positive Feedback Count  23486 non-null  int64 \n",
      " 8   Division Name            23472 non-null  object\n",
      " 9   Department Name          23472 non-null  object\n",
      " 10  Class Name               23472 non-null  object\n",
      "dtypes: int64(6), object(5)\n",
      "memory usage: 2.0+ MB\n"
     ]
    }
   ],
   "source": [
    "df = pd.read_csv('clothing_reviews.csv')\n",
    "df.info()"
   ]
  },
  {
   "cell_type": "markdown",
   "metadata": {},
   "source": [
    "To be able to work with the rating system, we will have to classify them as either positive (X>3) or not positive (X<4). <br>\n",
    "We choose for positive and not positive to make it easy for ourselves to create dummy variables of the classification. We will need the classification in order to train our model."
   ]
  },
  {
   "cell_type": "code",
   "execution_count": 11,
   "metadata": {},
   "outputs": [
    {
     "data": {
      "text/html": [
       "<div>\n",
       "<style scoped>\n",
       "    .dataframe tbody tr th:only-of-type {\n",
       "        vertical-align: middle;\n",
       "    }\n",
       "\n",
       "    .dataframe tbody tr th {\n",
       "        vertical-align: top;\n",
       "    }\n",
       "\n",
       "    .dataframe thead th {\n",
       "        text-align: right;\n",
       "    }\n",
       "</style>\n",
       "<table border=\"1\" class=\"dataframe\">\n",
       "  <thead>\n",
       "    <tr style=\"text-align: right;\">\n",
       "      <th></th>\n",
       "      <th>Review Text</th>\n",
       "      <th>Classification_Positive</th>\n",
       "    </tr>\n",
       "  </thead>\n",
       "  <tbody>\n",
       "    <tr>\n",
       "      <th>0</th>\n",
       "      <td>Absolutely wonderful - silky and sexy and comf...</td>\n",
       "      <td>1</td>\n",
       "    </tr>\n",
       "    <tr>\n",
       "      <th>1</th>\n",
       "      <td>Love this dress!  it's sooo pretty.  i happene...</td>\n",
       "      <td>1</td>\n",
       "    </tr>\n",
       "    <tr>\n",
       "      <th>2</th>\n",
       "      <td>I had such high hopes for this dress and reall...</td>\n",
       "      <td>0</td>\n",
       "    </tr>\n",
       "    <tr>\n",
       "      <th>3</th>\n",
       "      <td>I love, love, love this jumpsuit. it's fun, fl...</td>\n",
       "      <td>1</td>\n",
       "    </tr>\n",
       "    <tr>\n",
       "      <th>4</th>\n",
       "      <td>This shirt is very flattering to all due to th...</td>\n",
       "      <td>1</td>\n",
       "    </tr>\n",
       "  </tbody>\n",
       "</table>\n",
       "</div>"
      ],
      "text/plain": [
       "                                         Review Text  Classification_Positive\n",
       "0  Absolutely wonderful - silky and sexy and comf...                        1\n",
       "1  Love this dress!  it's sooo pretty.  i happene...                        1\n",
       "2  I had such high hopes for this dress and reall...                        0\n",
       "3  I love, love, love this jumpsuit. it's fun, fl...                        1\n",
       "4  This shirt is very flattering to all due to th...                        1"
      ]
     },
     "execution_count": 11,
     "metadata": {},
     "output_type": "execute_result"
    }
   ],
   "source": [
    "df['Classification'] = np.nan\n",
    "df.loc[df['Rating'] > 3, 'Classification'] = 'Positive' \n",
    "df.loc[df['Rating'] < 4, 'Classification'] = 'Not Positive' \n",
    "df = pd.get_dummies(df, columns=['Classification'])\n",
    "df_dresses = df[(df['Class Name'] == 'Dresses')]\n",
    "df_dresses = df[['Review Text', 'Classification_Positive']]\n",
    "df_dresses.head()\n"
   ]
  },
  {
   "cell_type": "markdown",
   "metadata": {},
   "source": [
    "We will now filter the review text on features. Features can be common words found in the dress reviews. These are called features because we might use an amount of them to train and test our model.  <br><br>\n",
    "We need the stop words filter to clean up our data so our model only has the relevant words to train with. The words are first filtered through an English stop word list. The stop word list will drop all \"filler\" words, like \"and\" and \"or\" etc."
   ]
  },
  {
   "cell_type": "code",
   "execution_count": 12,
   "metadata": {},
   "outputs": [
    {
     "name": "stdout",
     "output_type": "stream",
     "text": [
      "There are 13856 words in the vocabulary. A selection: ['0p', '0petite', '0r', '0verall', '0xs', '10', '100', '1000', '100lb', '100lbs']\n"
     ]
    }
   ],
   "source": [
    "text = df_dresses['Review Text'].values.astype('U') #Taking the text from the df. We need to convert it to Unicode\n",
    "vect = CountVectorizer(stop_words='english') #Create the CV object, with English stop words\n",
    "vect = vect.fit(text) #We fit the model with the words from the review text\n",
    "vect\n",
    "feature_names = vect.get_feature_names() \n",
    "print(f\"There are {len(feature_names)} words in the vocabulary. A selection: {feature_names[10:20]}\")"
   ]
  },
  {
   "cell_type": "code",
   "execution_count": 13,
   "metadata": {},
   "outputs": [
    {
     "name": "stdout",
     "output_type": "stream",
     "text": [
      "  (0, 581)\t1\n",
      "  (0, 2788)\t1\n",
      "  (0, 10684)\t1\n",
      "  (0, 10929)\t1\n",
      "  (0, 13631)\t1\n",
      "  (1, 1446)\t2\n",
      "  (1, 1845)\t1\n",
      "  (1, 3537)\t1\n",
      "  (1, 3701)\t1\n",
      "  (1, 4035)\t1\n",
      "  (1, 5421)\t1\n",
      "  (1, 5725)\t1\n",
      "  (1, 5930)\t1\n",
      "  (1, 6667)\t1\n",
      "  (1, 6754)\t1\n",
      "  (1, 6986)\t1\n",
      "  (1, 7137)\t1\n",
      "  (1, 7257)\t2\n",
      "  (1, 7671)\t1\n",
      "  (1, 8364)\t1\n",
      "  (1, 8432)\t1\n",
      "  (1, 8889)\t3\n",
      "  (1, 9340)\t1\n",
      "  (1, 11293)\t1\n",
      "  (1, 11631)\t1\n",
      "  :\t:\n",
      "  (23484, 8206)\t1\n",
      "  (23484, 8839)\t1\n",
      "  (23484, 8842)\t1\n",
      "  (23484, 10864)\t1\n",
      "  (23484, 11385)\t1\n",
      "  (23484, 11864)\t1\n",
      "  (23484, 12082)\t1\n",
      "  (23484, 12091)\t1\n",
      "  (23484, 12939)\t1\n",
      "  (23484, 13281)\t1\n",
      "  (23484, 13316)\t1\n",
      "  (23484, 13380)\t1\n",
      "  (23484, 13414)\t1\n",
      "  (23484, 13685)\t1\n",
      "  (23485, 2796)\t1\n",
      "  (23485, 4035)\t1\n",
      "  (23485, 4163)\t1\n",
      "  (23485, 4796)\t1\n",
      "  (23485, 4884)\t1\n",
      "  (23485, 5893)\t1\n",
      "  (23485, 7264)\t1\n",
      "  (23485, 8842)\t1\n",
      "  (23485, 9058)\t1\n",
      "  (23485, 9774)\t1\n",
      "  (23485, 13390)\t1\n"
     ]
    }
   ],
   "source": [
    "docu_feat = vect.transform(text) #The transform method from the CountVectorizer object creates the matrix\n",
    "print(docu_feat)"
   ]
  },
  {
   "cell_type": "markdown",
   "metadata": {},
   "source": [
    "We as humans can't do much with the features matrix. We cannot read what means what. Which is why we will concat the matrix into a readable dataframe. The ones describe the occurence of a specific word, the zero means the lack of a specific word. <br><br>\n",
    "The reason we see so many zeros in the dataframe is simple to explain. The majority of the words do not occur often, especially with a dataframe consisting of almost 14 000 words! <br>\n",
    "One exception in this case could be the word \"dress\", but sadly we cannot see exactly what column represents that word."
   ]
  },
  {
   "cell_type": "code",
   "execution_count": 14,
   "metadata": {},
   "outputs": [
    {
     "data": {
      "text/html": [
       "<div>\n",
       "<style scoped>\n",
       "    .dataframe tbody tr th:only-of-type {\n",
       "        vertical-align: middle;\n",
       "    }\n",
       "\n",
       "    .dataframe tbody tr th {\n",
       "        vertical-align: top;\n",
       "    }\n",
       "\n",
       "    .dataframe thead th {\n",
       "        text-align: right;\n",
       "    }\n",
       "</style>\n",
       "<table border=\"1\" class=\"dataframe\">\n",
       "  <thead>\n",
       "    <tr style=\"text-align: right;\">\n",
       "      <th></th>\n",
       "      <th>Review Text</th>\n",
       "      <th>Classification_Positive</th>\n",
       "      <th>0</th>\n",
       "      <th>1</th>\n",
       "      <th>2</th>\n",
       "      <th>3</th>\n",
       "      <th>4</th>\n",
       "      <th>5</th>\n",
       "      <th>6</th>\n",
       "      <th>7</th>\n",
       "      <th>...</th>\n",
       "      <th>13846</th>\n",
       "      <th>13847</th>\n",
       "      <th>13848</th>\n",
       "      <th>13849</th>\n",
       "      <th>13850</th>\n",
       "      <th>13851</th>\n",
       "      <th>13852</th>\n",
       "      <th>13853</th>\n",
       "      <th>13854</th>\n",
       "      <th>13855</th>\n",
       "    </tr>\n",
       "  </thead>\n",
       "  <tbody>\n",
       "    <tr>\n",
       "      <th>0</th>\n",
       "      <td>Absolutely wonderful - silky and sexy and comf...</td>\n",
       "      <td>1</td>\n",
       "      <td>0</td>\n",
       "      <td>0</td>\n",
       "      <td>0</td>\n",
       "      <td>0</td>\n",
       "      <td>0</td>\n",
       "      <td>0</td>\n",
       "      <td>0</td>\n",
       "      <td>0</td>\n",
       "      <td>...</td>\n",
       "      <td>0</td>\n",
       "      <td>0</td>\n",
       "      <td>0</td>\n",
       "      <td>0</td>\n",
       "      <td>0</td>\n",
       "      <td>0</td>\n",
       "      <td>0</td>\n",
       "      <td>0</td>\n",
       "      <td>0</td>\n",
       "      <td>0</td>\n",
       "    </tr>\n",
       "    <tr>\n",
       "      <th>1</th>\n",
       "      <td>Love this dress!  it's sooo pretty.  i happene...</td>\n",
       "      <td>1</td>\n",
       "      <td>0</td>\n",
       "      <td>0</td>\n",
       "      <td>0</td>\n",
       "      <td>0</td>\n",
       "      <td>0</td>\n",
       "      <td>0</td>\n",
       "      <td>0</td>\n",
       "      <td>0</td>\n",
       "      <td>...</td>\n",
       "      <td>0</td>\n",
       "      <td>0</td>\n",
       "      <td>0</td>\n",
       "      <td>0</td>\n",
       "      <td>0</td>\n",
       "      <td>0</td>\n",
       "      <td>0</td>\n",
       "      <td>0</td>\n",
       "      <td>0</td>\n",
       "      <td>0</td>\n",
       "    </tr>\n",
       "    <tr>\n",
       "      <th>2</th>\n",
       "      <td>I had such high hopes for this dress and reall...</td>\n",
       "      <td>0</td>\n",
       "      <td>0</td>\n",
       "      <td>0</td>\n",
       "      <td>0</td>\n",
       "      <td>0</td>\n",
       "      <td>0</td>\n",
       "      <td>0</td>\n",
       "      <td>0</td>\n",
       "      <td>0</td>\n",
       "      <td>...</td>\n",
       "      <td>0</td>\n",
       "      <td>0</td>\n",
       "      <td>0</td>\n",
       "      <td>0</td>\n",
       "      <td>0</td>\n",
       "      <td>0</td>\n",
       "      <td>0</td>\n",
       "      <td>0</td>\n",
       "      <td>0</td>\n",
       "      <td>0</td>\n",
       "    </tr>\n",
       "    <tr>\n",
       "      <th>3</th>\n",
       "      <td>I love, love, love this jumpsuit. it's fun, fl...</td>\n",
       "      <td>1</td>\n",
       "      <td>0</td>\n",
       "      <td>0</td>\n",
       "      <td>0</td>\n",
       "      <td>0</td>\n",
       "      <td>0</td>\n",
       "      <td>0</td>\n",
       "      <td>0</td>\n",
       "      <td>0</td>\n",
       "      <td>...</td>\n",
       "      <td>0</td>\n",
       "      <td>0</td>\n",
       "      <td>0</td>\n",
       "      <td>0</td>\n",
       "      <td>0</td>\n",
       "      <td>0</td>\n",
       "      <td>0</td>\n",
       "      <td>0</td>\n",
       "      <td>0</td>\n",
       "      <td>0</td>\n",
       "    </tr>\n",
       "    <tr>\n",
       "      <th>4</th>\n",
       "      <td>This shirt is very flattering to all due to th...</td>\n",
       "      <td>1</td>\n",
       "      <td>0</td>\n",
       "      <td>0</td>\n",
       "      <td>0</td>\n",
       "      <td>0</td>\n",
       "      <td>0</td>\n",
       "      <td>0</td>\n",
       "      <td>0</td>\n",
       "      <td>0</td>\n",
       "      <td>...</td>\n",
       "      <td>0</td>\n",
       "      <td>0</td>\n",
       "      <td>0</td>\n",
       "      <td>0</td>\n",
       "      <td>0</td>\n",
       "      <td>0</td>\n",
       "      <td>0</td>\n",
       "      <td>0</td>\n",
       "      <td>0</td>\n",
       "      <td>0</td>\n",
       "    </tr>\n",
       "  </tbody>\n",
       "</table>\n",
       "<p>5 rows × 13858 columns</p>\n",
       "</div>"
      ],
      "text/plain": [
       "                                         Review Text  Classification_Positive  \\\n",
       "0  Absolutely wonderful - silky and sexy and comf...                        1   \n",
       "1  Love this dress!  it's sooo pretty.  i happene...                        1   \n",
       "2  I had such high hopes for this dress and reall...                        0   \n",
       "3  I love, love, love this jumpsuit. it's fun, fl...                        1   \n",
       "4  This shirt is very flattering to all due to th...                        1   \n",
       "\n",
       "   0  1  2  3  4  5  6  7  ...  13846  13847  13848  13849  13850  13851  \\\n",
       "0  0  0  0  0  0  0  0  0  ...      0      0      0      0      0      0   \n",
       "1  0  0  0  0  0  0  0  0  ...      0      0      0      0      0      0   \n",
       "2  0  0  0  0  0  0  0  0  ...      0      0      0      0      0      0   \n",
       "3  0  0  0  0  0  0  0  0  ...      0      0      0      0      0      0   \n",
       "4  0  0  0  0  0  0  0  0  ...      0      0      0      0      0      0   \n",
       "\n",
       "   13852  13853  13854  13855  \n",
       "0      0      0      0      0  \n",
       "1      0      0      0      0  \n",
       "2      0      0      0      0  \n",
       "3      0      0      0      0  \n",
       "4      0      0      0      0  \n",
       "\n",
       "[5 rows x 13858 columns]"
      ]
     },
     "execution_count": 14,
     "metadata": {},
     "output_type": "execute_result"
    }
   ],
   "source": [
    "rev_words = pd.concat([df_dresses, pd.DataFrame(docu_feat.toarray())], axis=1)\n",
    "rev_words.head(5)"
   ]
  },
  {
   "cell_type": "markdown",
   "metadata": {},
   "source": [
    "Next step is to assign our X and y. After which we will fit our model and see how accurate our model is.<br> For the X we use the document features, or the matrix we made previously. Every single word will be used as a seperate variable. <br><br>\n",
    "Naive Bayes is naive, so it assumes no correlation between any of the given variables/features.<br>\n",
    "Of course our y will be the classification of the review, is it positive or neutral/negative."
   ]
  },
  {
   "cell_type": "code",
   "execution_count": 15,
   "metadata": {},
   "outputs": [],
   "source": [
    "X = docu_feat \n",
    "y = df_dresses['Classification_Positive']\n",
    "X_train, X_test, y_train, y_test = train_test_split(X, y, test_size=0.3, random_state=1)"
   ]
  },
  {
   "cell_type": "markdown",
   "metadata": {},
   "source": [
    "Below we create our Naive Bayes model and fit it with our X and y. Let's see how well it can predit our test data set!"
   ]
  },
  {
   "cell_type": "code",
   "execution_count": 16,
   "metadata": {},
   "outputs": [],
   "source": [
    "nb = MultinomialNB()\n",
    "nb = nb.fit(X_train, y_train)\n",
    "y_test_p = nb.predict(X_test)"
   ]
  },
  {
   "cell_type": "markdown",
   "metadata": {},
   "source": [
    "We use the easy score function that's built into the Naive Bayes model. It shows that our model is accurately able to predict almost 87% of the test cases! Which is pretty impressive. <br><br>\n",
    "If we would want, we can fit in several extra features to see if our predicitions can be more accurate. <br> Some possible extra features could be word length, number of characters and punctuation."
   ]
  },
  {
   "cell_type": "code",
   "execution_count": 17,
   "metadata": {},
   "outputs": [
    {
     "data": {
      "text/plain": [
       "0.8685779165483962"
      ]
     },
     "execution_count": 17,
     "metadata": {},
     "output_type": "execute_result"
    }
   ],
   "source": [
    "nb.score(X_test, y_test, sample_weight=None)"
   ]
  },
  {
   "cell_type": "markdown",
   "metadata": {},
   "source": [
    "We can create a quick confusion matrix to see how the prediction model holds up. Let's also print the results of the precision and recall for both labels."
   ]
  },
  {
   "cell_type": "code",
   "execution_count": 18,
   "metadata": {},
   "outputs": [
    {
     "data": {
      "text/html": [
       "<div>\n",
       "<style scoped>\n",
       "    .dataframe tbody tr th:only-of-type {\n",
       "        vertical-align: middle;\n",
       "    }\n",
       "\n",
       "    .dataframe tbody tr th {\n",
       "        vertical-align: top;\n",
       "    }\n",
       "\n",
       "    .dataframe thead th {\n",
       "        text-align: right;\n",
       "    }\n",
       "</style>\n",
       "<table border=\"1\" class=\"dataframe\">\n",
       "  <thead>\n",
       "    <tr style=\"text-align: right;\">\n",
       "      <th></th>\n",
       "      <th>Pred Positive</th>\n",
       "      <th>Pred negative</th>\n",
       "    </tr>\n",
       "  </thead>\n",
       "  <tbody>\n",
       "    <tr>\n",
       "      <th>Positive</th>\n",
       "      <td>1097</td>\n",
       "      <td>518</td>\n",
       "    </tr>\n",
       "    <tr>\n",
       "      <th>Negative</th>\n",
       "      <td>408</td>\n",
       "      <td>5023</td>\n",
       "    </tr>\n",
       "  </tbody>\n",
       "</table>\n",
       "</div>"
      ],
      "text/plain": [
       "          Pred Positive  Pred negative\n",
       "Positive           1097            518\n",
       "Negative            408           5023"
      ]
     },
     "execution_count": 18,
     "metadata": {},
     "output_type": "execute_result"
    }
   ],
   "source": [
    "from sklearn.metrics import confusion_matrix\n",
    "cm = confusion_matrix(y_test, y_test_p)\n",
    "cm = pd.DataFrame(cm, index=['Positive', 'Negative'], columns=['Pred Positive', 'Pred negative'])\n",
    "cm"
   ]
  },
  {
   "cell_type": "code",
   "execution_count": 19,
   "metadata": {},
   "outputs": [
    {
     "name": "stdout",
     "output_type": "stream",
     "text": [
      "The precision for a positive review is: 0.7289036544850498\n",
      "The recall for a positive review is: 0.6792569659442724\n",
      "The precision for a negative review is: 0.906515069482043\n",
      "The recall for a negative review is: 0.9248757134965936\n"
     ]
    }
   ],
   "source": [
    "print(f\"The precision for a positive review is: {cm.iloc[0,0]/(cm.iloc[0,0]+cm.iloc[1,0])}\")\n",
    "print(f\"The recall for a positive review is: {cm.iloc[0,0]/(cm.iloc[0,0]+cm.iloc[0,1])}\")\n",
    "print(f\"The precision for a negative review is: {cm.iloc[1,1]/(cm.iloc[1,1]+cm.iloc[0,1])}\")\n",
    "print(f\"The recall for a negative review is: {cm.iloc[1,1]/(cm.iloc[1,1]+cm.iloc[1,0])}\")"
   ]
  },
  {
   "cell_type": "markdown",
   "metadata": {},
   "source": [
    "Surprisingly, the model is better at predicting negative reviews than it is with prediciting positive reviews. An explanation could be that the dataset of negative reviews is larger. A greater dataset of cases often means a higher accuracy in predictions. <br><br>\n",
    "We can dive further into the cases that the model is not able to predict accurately, what could be the reason for inaccuracy? <br>\n",
    "We create a new column of the predicted value and compare that to the known classification. Let's see what that gives us."
   ]
  },
  {
   "cell_type": "code",
   "execution_count": 31,
   "metadata": {},
   "outputs": [
    {
     "name": "stdout",
     "output_type": "stream",
     "text": [
      "                                             Review Text  \\\n",
      "0      Absolutely wonderful - silky and sexy and comf...   \n",
      "1      Love this dress!  it's sooo pretty.  i happene...   \n",
      "2      I had such high hopes for this dress and reall...   \n",
      "3      I love, love, love this jumpsuit. it's fun, fl...   \n",
      "4      This shirt is very flattering to all due to th...   \n",
      "...                                                  ...   \n",
      "23481  I was very happy to snag this dress at such a ...   \n",
      "23482  It reminds me of maternity clothes. soft, stre...   \n",
      "23483  This fit well, but the top was very see throug...   \n",
      "23484  I bought this dress for a wedding i have this ...   \n",
      "23485  This dress in a lovely platinum is feminine an...   \n",
      "\n",
      "       Classification_Positive  Rating_Prediction  \n",
      "0                            1                  1  \n",
      "1                            1                  1  \n",
      "2                            0                  0  \n",
      "3                            1                  1  \n",
      "4                            1                  1  \n",
      "...                        ...                ...  \n",
      "23481                        1                  1  \n",
      "23482                        0                  0  \n",
      "23483                        0                  1  \n",
      "23484                        0                  0  \n",
      "23485                        1                  1  \n",
      "\n",
      "[23486 rows x 3 columns]\n"
     ]
    }
   ],
   "source": [
    "df[\"Rating_Prediction\"] = nb.predict(X)\n",
    "df_dresses = df[['Review Text', 'Classification_Positive', 'Rating_Prediction']]\n",
    "print(df_dresses)\n"
   ]
  },
  {
   "cell_type": "code",
   "execution_count": 33,
   "metadata": {},
   "outputs": [
    {
     "data": {
      "text/plain": [
       "\"This fit well, but the top was very see through. this never would have worked for me. i'm glad i was able to try it on in the store and didn't order it online. with different fabric, it would have been great.\""
      ]
     },
     "execution_count": 33,
     "metadata": {},
     "output_type": "execute_result"
    }
   ],
   "source": [
    "df_dresses['Review Text'].iloc[23483]"
   ]
  },
  {
   "cell_type": "markdown",
   "metadata": {},
   "source": [
    "As we can see, while this review is negative it uses a lot of possible positive words. Such as great, worked and glad. Since Naive Bayes is naive, it does not look into the relation between these words in combination with other words. Thus classifying the review as positive."
   ]
  }
 ],
 "metadata": {
  "kernelspec": {
   "display_name": "Python 3",
   "language": "python",
   "name": "python3"
  },
  "language_info": {
   "codemirror_mode": {
    "name": "ipython",
    "version": 3
   },
   "file_extension": ".py",
   "mimetype": "text/x-python",
   "name": "python",
   "nbconvert_exporter": "python",
   "pygments_lexer": "ipython3",
   "version": "3.8.5"
  }
 },
 "nbformat": 4,
 "nbformat_minor": 4
}
